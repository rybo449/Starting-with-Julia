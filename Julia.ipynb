{
 "metadata": {
  "language": "Julia",
  "name": "",
  "signature": "sha256:68796062d5ec0aba6106e8107e422845db44417a3bab94053f6ce611c1b12e5a"
 },
 "nbformat": 3,
 "nbformat_minor": 0,
 "worksheets": [
  {
   "cells": [
    {
     "cell_type": "code",
     "collapsed": false,
     "input": [
      "v = [1,2,3]"
     ],
     "language": "python",
     "metadata": {},
     "outputs": [
      {
       "metadata": {},
       "output_type": "pyout",
       "prompt_number": 8,
       "text": [
        "3-element Array{Int64,1}:\n",
        " 1\n",
        " 2\n",
        " 3"
       ]
      }
     ],
     "prompt_number": 8
    },
    {
     "cell_type": "code",
     "collapsed": false,
     "input": [
      "v = \"foo\""
     ],
     "language": "python",
     "metadata": {},
     "outputs": [
      {
       "metadata": {},
       "output_type": "pyout",
       "prompt_number": 2,
       "text": [
        "\"foo\""
       ]
      }
     ],
     "prompt_number": 2
    },
    {
     "cell_type": "code",
     "collapsed": false,
     "input": [
      "v"
     ],
     "language": "python",
     "metadata": {},
     "outputs": [
      {
       "ename": "LoadError",
       "evalue": "`setindex!` has no method matching setindex!(::ASCIIString, ::ASCIIString, ::Int64)\nwhile loading In[3], in expression starting on line 1",
       "output_type": "pyerr",
       "traceback": [
        "`setindex!` has no method matching setindex!(::ASCIIString, ::ASCIIString, ::Int64)\nwhile loading In[3], in expression starting on line 1",
        ""
       ]
      }
     ],
     "prompt_number": 3
    },
    {
     "cell_type": "code",
     "collapsed": false,
     "input": [
      "v[1] = 1.0"
     ],
     "language": "python",
     "metadata": {},
     "outputs": [
      {
       "metadata": {},
       "output_type": "pyout",
       "prompt_number": 9,
       "text": [
        "1.0"
       ]
      }
     ],
     "prompt_number": 9
    },
    {
     "cell_type": "code",
     "collapsed": false,
     "input": [
      "function collatz(n)\n",
      "    k = 0\n",
      "    while n>1\n",
      "        n = isodd(n) ? 2n + 1: n>>1\n",
      "        k+=1\n",
      "    end\n",
      "    return k\n",
      "end"
     ],
     "language": "python",
     "metadata": {},
     "outputs": [
      {
       "metadata": {},
       "output_type": "pyout",
       "prompt_number": 10,
       "text": [
        "collatz (generic function with 1 method)"
       ]
      }
     ],
     "prompt_number": 10
    },
    {
     "cell_type": "code",
     "collapsed": false,
     "input": [
      "collatz(10)"
     ],
     "language": "python",
     "metadata": {},
     "outputs": [
      {
       "metadata": {},
       "output_type": "pyout",
       "prompt_number": 11,
       "text": [
        "62"
       ]
      }
     ],
     "prompt_number": 11
    },
    {
     "cell_type": "code",
     "collapsed": false,
     "input": [
      "[collatz(n) for n = 1:100]"
     ],
     "language": "python",
     "metadata": {},
     "outputs": [
      {
       "metadata": {},
       "output_type": "pyout",
       "prompt_number": 12,
       "text": [
        "100-element Array{Int64,1}:\n",
        "  0\n",
        "  1\n",
        " 62\n",
        "  2\n",
        " 61\n",
        " 63\n",
        " 61\n",
        "  3\n",
        " 60\n",
        " 62\n",
        " 60\n",
        " 64\n",
        " 60\n",
        "  \u22ee\n",
        " 57\n",
        " 59\n",
        " 57\n",
        " 61\n",
        " 57\n",
        " 59\n",
        " 57\n",
        " 67\n",
        " 57\n",
        " 59\n",
        " 57\n",
        " 61"
       ]
      }
     ],
     "prompt_number": 12
    },
    {
     "cell_type": "code",
     "collapsed": false,
     "input": [
      "[collatz(n) for n = 1:10000]"
     ],
     "language": "python",
     "metadata": {},
     "outputs": [
      {
       "metadata": {},
       "output_type": "pyout",
       "prompt_number": 13,
       "text": [
        "10000-element Array{Int64,1}:\n",
        "  0\n",
        "  1\n",
        " 62\n",
        "  2\n",
        " 61\n",
        " 63\n",
        " 61\n",
        "  3\n",
        " 60\n",
        " 62\n",
        " 60\n",
        " 64\n",
        " 60\n",
        "  \u22ee\n",
        " 50\n",
        " 52\n",
        " 50\n",
        " 56\n",
        " 50\n",
        " 52\n",
        " 50\n",
        " 54\n",
        " 50\n",
        " 52\n",
        " 50\n",
        " 58"
       ]
      }
     ],
     "prompt_number": 13
    },
    {
     "cell_type": "code",
     "collapsed": false,
     "input": [
      "@code_llvm collatz(1000)"
     ],
     "language": "python",
     "metadata": {},
     "outputs": [
      {
       "output_type": "stream",
       "stream": "stdout",
       "text": [
        "\n",
        "define i64 @\"julia_collatz;20558\"(i64) {\n",
        "top:\n",
        "  %1 = icmp slt i64 %0, 2, !dbg !2535\n",
        "  br i1 %1, label %L6, label %L, !dbg !2535\n",
        "\n",
        "L:                                                ; preds = %top, %L3\n",
        "  %k.0 = phi i64 [ %7, %L3 ], [ 0, %top ]\n",
        "  %n.0 = phi i64 [ %n.1, %L3 ], [ %0, %top ]\n",
        "  %2 = and i64 %n.0, 1, !dbg !2536\n",
        "  %3 = icmp eq i64 %2, 0, !dbg !2536\n",
        "  br i1 %3, label %L2, label %if1, !dbg !2536\n",
        "\n",
        "if1:                                              ; preds = %L\n",
        "  %4 = shl i64 %n.0, 1, !dbg !2536\n",
        "  %5 = or i64 %4, 1, !dbg !2536\n",
        "  br label %L3, !dbg !2536\n",
        "\n",
        "L2:                                               ; preds = %L\n",
        "  %6 = ashr i64 %n.0, 1, !dbg !2536\n",
        "  br label %L3, !dbg !2536\n",
        "\n",
        "L3:                                               ; preds = %L2, %if1\n",
        "  %n.1 = phi i64 [ %6, %L2 ], [ %5, %if1 ]\n",
        "  %7 = add i64 %k.0, 1, !dbg !2537\n",
        "  %8 = icmp sgt i64 %n.1, 1, !dbg !2537\n",
        "  br i1 %8, label %L, label %L6, !dbg !2537\n",
        "\n",
        "L6:                                               ; preds = %L3, %top\n",
        "  %k.1 = phi i64 [ 0, %top ], [ %7, %L3 ]\n",
        "  ret i64 %k.1, !dbg !2538\n",
        "}\n"
       ]
      }
     ],
     "prompt_number": 14
    },
    {
     "cell_type": "code",
     "collapsed": false,
     "input": [
      "collatz(1.0)"
     ],
     "language": "python",
     "metadata": {},
     "outputs": [
      {
       "metadata": {},
       "output_type": "pyout",
       "prompt_number": 16,
       "text": [
        "0"
       ]
      }
     ],
     "prompt_number": 16
    },
    {
     "cell_type": "code",
     "collapsed": false,
     "input": [
      "collatz(2.0)"
     ],
     "language": "python",
     "metadata": {},
     "outputs": [
      {
       "ename": "LoadError",
       "evalue": "`isodd` has no method matching isodd(::Float64)\nwhile loading In[17], in expression starting on line 1",
       "output_type": "pyerr",
       "traceback": [
        "`isodd` has no method matching isodd(::Float64)\nwhile loading In[17], in expression starting on line 1",
        "",
        " in collatz at In[10]:4"
       ]
      }
     ],
     "prompt_number": 17
    },
    {
     "cell_type": "code",
     "collapsed": false,
     "input": [
      "function collatz(n::Integer)\n",
      "    k = 0\n",
      "    while n>1\n",
      "        n = isodd(n) ? 2n + 1: n>>1\n",
      "        k+=1\n",
      "    end\n",
      "    return k\n",
      "end"
     ],
     "language": "python",
     "metadata": {},
     "outputs": [
      {
       "metadata": {},
       "output_type": "pyout",
       "prompt_number": 21,
       "text": [
        "collatz (generic function with 2 methods)"
       ]
      }
     ],
     "prompt_number": 21
    },
    {
     "cell_type": "code",
     "collapsed": false,
     "input": [
      "collatz(2)"
     ],
     "language": "python",
     "metadata": {},
     "outputs": [
      {
       "metadata": {},
       "output_type": "pyout",
       "prompt_number": 23,
       "text": [
        "1"
       ]
      }
     ],
     "prompt_number": 23
    },
    {
     "cell_type": "code",
     "collapsed": false,
     "input": [
      "collatz(n::Real) = collatz(convert(Int,n))"
     ],
     "language": "python",
     "metadata": {},
     "outputs": [
      {
       "metadata": {},
       "output_type": "pyout",
       "prompt_number": 24,
       "text": [
        "collatz (generic function with 3 methods)"
       ]
      }
     ],
     "prompt_number": 24
    },
    {
     "cell_type": "code",
     "collapsed": false,
     "input": [
      "collatz(10.0)"
     ],
     "language": "python",
     "metadata": {},
     "outputs": [
      {
       "metadata": {},
       "output_type": "pyout",
       "prompt_number": 25,
       "text": [
        "62"
       ]
      }
     ],
     "prompt_number": 25
    },
    {
     "cell_type": "code",
     "collapsed": false,
     "input": [
      "function julia(z,c)\n",
      "    for n = 1:80\n",
      "        if abs2(z)> 4\n",
      "            print n\n",
      "        "
     ],
     "language": "python",
     "metadata": {},
     "outputs": [
      {
       "ename": "LoadError",
       "evalue": "syntax: extra token \"n\" after end of expression\nwhile loading In[27], in expression starting on line 4",
       "output_type": "pyerr",
       "traceback": [
        "syntax: extra token \"n\" after end of expression\nwhile loading In[27], in expression starting on line 4",
        ""
       ]
      }
     ],
     "prompt_number": 27
    },
    {
     "cell_type": "code",
     "collapsed": false,
     "input": [
      "using symPy"
     ],
     "language": "python",
     "metadata": {},
     "outputs": [
      {
       "ename": "LoadError",
       "evalue": "symPy not found\nwhile loading In[28], in expression starting on line 1",
       "output_type": "pyerr",
       "traceback": [
        "symPy not found\nwhile loading In[28], in expression starting on line 1",
        "",
        " in require at loading.jl:47"
       ]
      }
     ],
     "prompt_number": 28
    },
    {
     "cell_type": "code",
     "collapsed": false,
     "input": [
      "@manipulate for n=0:10"
     ],
     "language": "python",
     "metadata": {},
     "outputs": []
    }
   ],
   "metadata": {}
  }
 ]
}